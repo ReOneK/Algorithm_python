{
 "cells": [
  {
   "cell_type": "markdown",
   "metadata": {},
   "source": [
    "数组和链表结构\n",
    "\n",
    "    --在编程语言中，最常用来实现集合的两种数据结构是数组和链表结构，这两种类型的结构采用不同的方法在计算机的内存中存储和访问数据\n",
    "    \n",
    "    "
   ]
  },
  {
   "cell_type": "markdown",
   "metadata": {},
   "source": [
    "数组\n",
    "\n",
    "--物理大小：就是总的单元数，len(a)\n",
    "\n",
    "--逻辑大小：可供使用的单元数，即还剩多少"
   ]
  },
  {
   "cell_type": "markdown",
   "metadata": {},
   "source": [
    "数组的python实现"
   ]
  },
  {
   "cell_type": "code",
   "execution_count": 14,
   "metadata": {
    "collapsed": true
   },
   "outputs": [],
   "source": [
    "class Array(object):\n",
    "    def __init__(self,capacity,fileValue=None):\n",
    "        self._items=[]\n",
    "        for i in range(capacity):\n",
    "            self._items.append(fileValue)\n",
    "            \n",
    "    def __len__(self):\n",
    "        return len(self._items)\n",
    "    \n",
    "    def __str__(self):\n",
    "        return str(self._items)\n",
    "    \n",
    "    def __iter__(self):\n",
    "        return iter(self._items)\n",
    "    \n",
    "    def __getitem__(self,index):\n",
    "        return self._items(index)\n",
    "        \n",
    "    def __setitem__(self,index,newvalue):\n",
    "        self._items[index]=newvalue"
   ]
  },
  {
   "cell_type": "markdown",
   "metadata": {},
   "source": [
    "用法："
   ]
  },
  {
   "cell_type": "code",
   "execution_count": 15,
   "metadata": {},
   "outputs": [
    {
     "data": {
      "text/plain": [
       "5"
      ]
     },
     "execution_count": 15,
     "metadata": {},
     "output_type": "execute_result"
    }
   ],
   "source": [
    "a=Array(5)\n",
    "len(a)"
   ]
  },
  {
   "cell_type": "code",
   "execution_count": 16,
   "metadata": {},
   "outputs": [
    {
     "name": "stdout",
     "output_type": "stream",
     "text": [
      "[None, None, None, None, None]\n"
     ]
    }
   ],
   "source": [
    "print(a)"
   ]
  },
  {
   "cell_type": "markdown",
   "metadata": {},
   "source": [
    "1 增加数组的大小\n",
    "\n",
    "    --创建一个新的更大的数组\n",
    "    \n",
    "    --将数据从旧的数组复制到新的数组中\n",
    "    \n",
    "    --将旧的数组变量重新设置为新的数组对象"
   ]
  },
  {
   "cell_type": "code",
   "execution_count": null,
   "metadata": {
    "collapsed": true
   },
   "outputs": [],
   "source": [
    "if logicalsize==len(a):\n",
    "    temp=Array(len(a)+1)\n",
    "    for i in range(logicalsize):\n",
    "        temp[i]=a[i]\n",
    "    a=temp"
   ]
  },
  {
   "cell_type": "markdown",
   "metadata": {},
   "source": [
    "2 减小数组的大小\n",
    "\n",
    "    --创建一个新的更大的数组\n",
    "    \n",
    "    --将数据从旧的数组复制到新的数组中\n",
    "    \n",
    "    --将旧的数组变量重新设置为新的数组对象\n",
    "    \n",
    "    和增加数组大小类似。。。\n"
   ]
  },
  {
   "cell_type": "markdown",
   "metadata": {},
   "source": [
    "3 在数组中插入一项\n",
    "\n",
    "    --先检查空间大小\n",
    "    --将被插入位置之前的所有项后移一位\n",
    "    --将新的项赋给目标索引位置\n",
    "    --逻辑大小增加1"
   ]
  },
  {
   "cell_type": "code",
   "execution_count": null,
   "metadata": {
    "collapsed": true
   },
   "outputs": [],
   "source": [
    "for i in range(logicsize,targetindex,-1):\n",
    "    a[i]=a[i-1]\n",
    "    \n",
    "a[targetindex]=newvalue\n",
    "logicsize+=1"
   ]
  },
  {
   "cell_type": "markdown",
   "metadata": {},
   "source": [
    "4 从数组中删除一项\n",
    "\n",
    "    类似于插入，但是是删除项后面的所有项后移一位，然后逻辑大小减一"
   ]
  },
  {
   "cell_type": "code",
   "execution_count": null,
   "metadata": {
    "collapsed": true
   },
   "outputs": [],
   "source": [
    "for i in range(targetindex,logicsize-1):\n",
    "    a[i]=a[i+1]\n",
    "    \n",
    "logicsize-=1"
   ]
  },
  {
   "cell_type": "markdown",
   "metadata": {},
   "source": [
    "链表"
   ]
  },
  {
   "cell_type": "code",
   "execution_count": 18,
   "metadata": {
    "collapsed": true
   },
   "outputs": [],
   "source": [
    "#定义一个 单链表节点类\n",
    "\n",
    "class Node(object):\n",
    "    def __init__(self,data,next=None):\n",
    "        self.data=data\n",
    "        self.next=next\n",
    "        \n"
   ]
  },
  {
   "cell_type": "code",
   "execution_count": 21,
   "metadata": {},
   "outputs": [
    {
     "name": "stdout",
     "output_type": "stream",
     "text": [
      "5\n",
      "4\n",
      "3\n",
      "2\n",
      "1\n"
     ]
    }
   ],
   "source": [
    "#循环生成链表\n",
    "head=None\n",
    "for i in range(1,6):\n",
    "    head=Node(i,head)\n",
    "    \n",
    "while head!=None:\n",
    "    print(head.data)\n",
    "    head=head.next"
   ]
  },
  {
   "cell_type": "markdown",
   "metadata": {},
   "source": [
    "在单链表结构上的操作"
   ]
  },
  {
   "cell_type": "markdown",
   "metadata": {},
   "source": [
    "1 遍历"
   ]
  },
  {
   "cell_type": "code",
   "execution_count": 24,
   "metadata": {
    "collapsed": true
   },
   "outputs": [],
   "source": [
    "prob=head\n",
    "while prob!=None:\n",
    "    prob=prob.next"
   ]
  },
  {
   "cell_type": "markdown",
   "metadata": {},
   "source": [
    "2 搜索"
   ]
  },
  {
   "cell_type": "code",
   "execution_count": null,
   "metadata": {
    "collapsed": true
   },
   "outputs": [],
   "source": [
    "prob=head\n",
    "while prob!=None and targetvalue!=prob.data:\n",
    "    prob=prob.next\n",
    "    \n",
    "if  prob!=None:\n",
    "    return True\n",
    "else:\n",
    "    return False\n",
    "\n",
    "#访问第i项\n",
    "prob=head\n",
    "while index>0:\n",
    "    prob=prob.next\n",
    "    index-=1\n",
    "return prob.data"
   ]
  },
  {
   "cell_type": "markdown",
   "metadata": {},
   "source": [
    "3 替换\n",
    "\n",
    "    在单链表结构中替换也利用了遍历操作\n",
    "    \n",
    "    下面分别是替换给定项和给定位置"
   ]
  },
  {
   "cell_type": "code",
   "execution_count": null,
   "metadata": {
    "collapsed": true
   },
   "outputs": [],
   "source": [
    "prob=head\n",
    "while prob!=None and targetvalue!=prob.data:\n",
    "    prob=prob.next\n",
    "    \n",
    "if  prob!=None:\n",
    "    prob.data=newvalue\n",
    "else:\n",
    "    return False\n",
    "\n",
    "#替换第i项\n",
    "prob=head\n",
    "while index>0:\n",
    "    prob=prob.next\n",
    "    index-=1\n",
    "return prob.data=newvalue"
   ]
  },
  {
   "cell_type": "markdown",
   "metadata": {},
   "source": [
    "4 在开始处插入和末尾处插入\n",
    "\n",
    "    --在开始出插入有两种情况，一种是head为None,一种不为None，代码实现都是一样\n",
    "    \n",
    "    -在末尾插入也是一样"
   ]
  },
  {
   "cell_type": "code",
   "execution_count": null,
   "metadata": {
    "collapsed": true
   },
   "outputs": [],
   "source": [
    "#在开始出插入\n",
    "head=Node(newItem,head)\n",
    "\n",
    "#在末尾处插入\n",
    "newNode=Node(newItem)\n",
    "if head is None:\n",
    "    head=newNode\n",
    "else:\n",
    "    prob=head\n",
    "    while prob.next!=None:\n",
    "        prob=prob.next\n",
    "    prob.next=newNode"
   ]
  },
  {
   "cell_type": "code",
   "execution_count": null,
   "metadata": {
    "collapsed": true
   },
   "outputs": [],
   "source": [
    "后续更新。。。"
   ]
  }
 ],
 "metadata": {
  "kernelspec": {
   "display_name": "Python 3",
   "language": "python",
   "name": "python3"
  },
  "language_info": {
   "codemirror_mode": {
    "name": "ipython",
    "version": 3
   },
   "file_extension": ".py",
   "mimetype": "text/x-python",
   "name": "python",
   "nbconvert_exporter": "python",
   "pygments_lexer": "ipython3",
   "version": "3.6.2"
  }
 },
 "nbformat": 4,
 "nbformat_minor": 2
}
