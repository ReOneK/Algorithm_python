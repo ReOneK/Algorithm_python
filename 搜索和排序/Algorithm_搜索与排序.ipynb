{
 "cells": [
  {
   "cell_type": "markdown",
   "metadata": {},
   "source": [
    "搜索排序和复杂度分析"
   ]
  },
  {
   "cell_type": "markdown",
   "metadata": {},
   "source": [
    "什么是算法？\n",
    "    \n",
    "    --描述了最终能解决一个问题的计算过程\n",
    "    \n",
    "如何分析一个算法的性能？\n",
    "    \n",
    "    1 . 通过运行时间\n",
    "    2. 统计不同问题规模所要执行的指令的数目\n",
    "    3. 算法的复杂度分析(大O表示法)\n",
    "    "
   ]
  },
  {
   "cell_type": "markdown",
   "metadata": {},
   "source": [
    "一 搜素算法"
   ]
  },
  {
   "cell_type": "markdown",
   "metadata": {},
   "source": [
    "1 搜索最小值\n",
    "\n",
    "    --python中min函数的实现"
   ]
  },
  {
   "cell_type": "code",
   "execution_count": 3,
   "metadata": {
    "collapsed": true
   },
   "outputs": [],
   "source": [
    "def indexMin(lst):\n",
    "    mindex=0             #1\n",
    "    currentindex=1       #2\n",
    "    while currentindex<len(lst):      #3\n",
    "        if lst[mindex]>lst[currentindex]:     #4\n",
    "            mindex=currentindex       #5\n",
    "        currentindex+=1       #6\n",
    "    return mindex             #7 "
   ]
  },
  {
   "cell_type": "markdown",
   "metadata": {},
   "source": [
    "对于任何传入的列表来说，1，2，7都是必须要执行的操作，所以可以不考虑剩余的3条指令是对列表的一个\n",
    "\n",
    "遍历，因此对于大小为n的列表，必须进行 n-1 次的比较，所以复杂度是O(n)"
   ]
  },
  {
   "cell_type": "markdown",
   "metadata": {},
   "source": [
    "2 顺序搜索一个列表\n",
    "\n",
    "   --python 中的 in 方法的实现"
   ]
  },
  {
   "cell_type": "code",
   "execution_count": 4,
   "metadata": {
    "collapsed": true
   },
   "outputs": [],
   "source": [
    "def sequenceSearch(target,lst):\n",
    "    pos=0\n",
    "    while pos<len(lst):\n",
    "        if target==lst[pos]:\n",
    "            return pos\n",
    "        pos+=1\n",
    "    return -1"
   ]
  },
  {
   "cell_type": "markdown",
   "metadata": {},
   "source": [
    "三种情况\n",
    "\n",
    "    1 最好的情况：\n",
    "        进行一次迭代能找到（即在第一个位置）\n",
    "\n",
    "    2 最坏的情况：\n",
    "        目标位于末尾或者或者不住列表中，就必须执行 n 迭代，O(n)\n",
    "               \n",
    "    3 平均的情况：\n",
    "        所有可能位置（0<i<n）,取每种情况的平均值，即（n+n-1+n-2+.....+1）/n或者（n+1）/2，\n",
    "        近似于O(n)"
   ]
  },
  {
   "cell_type": "markdown",
   "metadata": {},
   "source": [
    "3. 二叉搜索\n",
    "    \n",
    "    比较经典"
   ]
  },
  {
   "cell_type": "code",
   "execution_count": 5,
   "metadata": {
    "collapsed": true
   },
   "outputs": [],
   "source": [
    "def binarySearch(target,lst):\n",
    "    lst=sorted(lst)\n",
    "    left=0\n",
    "    right=len(lst)-1\n",
    "    while left<=right:\n",
    "        mid=(left+right)//2\n",
    "        if targrt==lst[mid]:\n",
    "            return mid\n",
    "        elif target<lst[mid]:\n",
    "            right=mid-1\n",
    "        else:\n",
    "            left=mid+1\n",
    "            \n",
    "    return -1"
   ]
  },
  {
   "cell_type": "markdown",
   "metadata": {},
   "source": [
    "其实就是对于一个列表的的长度不断处以2，直到剩下一个\n",
    "\n",
    "就是n/2/2/2/2/2...=1,n/2**k  ,所以复杂度为O(log2n)"
   ]
  },
  {
   "cell_type": "markdown",
   "metadata": {},
   "source": [
    "二 基本排序算法\n"
   ]
  },
  {
   "cell_type": "markdown",
   "metadata": {},
   "source": [
    "1 选择排序\n",
    "\n",
    "    --选择排序应该是最简单的排序了\n",
    "    \n",
    "    --就是一个个比较大小，然后交换位置，总执行次数为（n-1）+（n-2）+...1=n(n-1)/2,\n",
    "    算法复杂度为O(n**2)"
   ]
  },
  {
   "cell_type": "code",
   "execution_count": 11,
   "metadata": {
    "collapsed": true
   },
   "outputs": [],
   "source": [
    "def swap(lst,i,j):\n",
    "    temp=lst[i]\n",
    "    lst[i]=lst[j]\n",
    "    lat[j]=temp\n",
    "\n",
    "def choiceSort(lst):\n",
    "    i=0\n",
    "    while i<len(lst)-1:\n",
    "        minindex=i\n",
    "        j=i+1\n",
    "        while j<len[lst]:\n",
    "            if lst[j]<lst[i]:\n",
    "                minindex=j\n",
    "            j+=1\n",
    "        if minIndex!=i:\n",
    "            swap(lst,minindex,i)\n",
    "        i+=1\n",
    "\n",
    "#当然还有更简洁的一种\n",
    "\n",
    "def choiceSort(lst):\n",
    "    for i in range(len(slt)-1):\n",
    "        minindex=i\n",
    "        for m in range(i+1,len(slt)):\n",
    "            if slt[m]<slt[i]:\n",
    "                minindex=m\n",
    "        slt[minindex],slt[i]=(slt[i],slt[minindex])\n",
    "        \n",
    "    return slt"
   ]
  },
  {
   "cell_type": "markdown",
   "metadata": {},
   "source": [
    "2 冒泡排序\n",
    "\n",
    "    --和选择排序很相似，复杂度也是一样的，不过每次比较相邻的对象后就交换一次，\n",
    "    就直接把最大的（或者最小的）排到了最后一个"
   ]
  },
  {
   "cell_type": "code",
   "execution_count": 13,
   "metadata": {
    "collapsed": true
   },
   "outputs": [],
   "source": [
    "def swap(lst,i,j):\n",
    "    temp=lst[i]\n",
    "    lst[i]=lst[j]\n",
    "    lat[j]=temp\n",
    "\n",
    "def mpSort(lst):\n",
    "    length=len(lst)\n",
    "    for i in range(length-1):\n",
    "        swapped=False\n",
    "        for j in range(length-1-i):\n",
    "            if lst[j]>lst[j+1]:\n",
    "                swapped=True\n",
    "                slt[j],slt[j+1]=(slt[j+1],slt[j])\n",
    "        if not swapped:\n",
    "            break\n",
    "    return slt\n",
    "\n",
    "\n",
    "def mpSort1(lst):\n",
    "    length=len(lst)\n",
    "    while length>1:\n",
    "        i=1\n",
    "        while i<n:\n",
    "            if lst[i]<lst[i-1]:\n",
    "                swap[lst,i,i-1]\n",
    "            i+=1\n",
    "        length-=1\n",
    "        \n",
    "      "
   ]
  },
  {
   "cell_type": "markdown",
   "metadata": {},
   "source": [
    "3 插入排序\n",
    "\n",
    "感觉这几种排序其实都是相差不大，插入排序就是假装前i个是排好序的,然后让第i+1插入到其中的合适位置，然后就是循环。。。也是两层循环，平均复杂度也是O(n**2)"
   ]
  },
  {
   "cell_type": "code",
   "execution_count": 15,
   "metadata": {
    "collapsed": true
   },
   "outputs": [],
   "source": [
    "def insertSort(lst):\n",
    "    lenth=len(lst)\n",
    "    i=1\n",
    "    while i<lenth:\n",
    "        insertItem=lst[i]\n",
    "        j=i-1\n",
    "        while j>=0:\n",
    "            if insertItem<lst[j]:\n",
    "                lst[j+1]=lst[j]\n",
    "                j-=1\n",
    "            else:\n",
    "                break\n",
    "    lst[j+1]=insertItem\n",
    "    i+=1    \n",
    "    \n",
    "def insertSort(lst):\n",
    "    for index in range(1,len(lst)):\n",
    "        while index>0 and lst[index-1]>lst[index]:\n",
    "            lst[index],lst[index-1]=lst[index-1],lst[index]\n",
    "            index-=1\n",
    "            \n",
    "    return lst"
   ]
  },
  {
   "cell_type": "markdown",
   "metadata": {},
   "source": [
    "3 快速排序\n",
    "    \n",
    "    --类似于二分法递归完成，复杂度为nlog2(n)"
   ]
  },
  {
   "cell_type": "code",
   "execution_count": 23,
   "metadata": {
    "collapsed": true
   },
   "outputs": [],
   "source": [
    "def quicksort(lst):\n",
    "    quicksorter(lst,0,len(lst)-1)\n",
    "    \n",
    "def quicksorter(lst,left,right):\n",
    "    if left<right:\n",
    "        pivo=partion(lst,left,right)\n",
    "        quicksorter(lst,left,pivo-1)\n",
    "        quicksorter(lst,pivo,right)\n",
    "        \n",
    "def partion(lst,left,right):\n",
    "    mid=(left+right)//2\n",
    "    pivo=lst[mid]\n",
    "    lst[mid]=lst[right]\n",
    "    lst[right]=pivo\n",
    "    \n",
    "    boundary=left\n",
    "    \n",
    "    for i in range(left,boundary):\n",
    "        if lst[i]<pivo:\n",
    "            swap(lst,boundary,i)\n",
    "        boundary+=1\n",
    "        \n",
    "    swap(lst,right,boundary)\n",
    "    return boundary\n",
    "\n",
    "def quick_sort(ARRAY):\n",
    "    ARRAY_LENGTH = len(ARRAY)\n",
    "    if( ARRAY_LENGTH <= 1):\n",
    "        return ARRAY\n",
    "    else:\n",
    "        PIVOT = ARRAY[0]\n",
    "        GREATER = [ element for element in ARRAY[1:] if element > PIVOT ]\n",
    "        LESSER = [ element for element in ARRAY[1:] if element <= PIVOT ]\n",
    "        return quick_sort(LESSER) + [PIVOT] + quick_sort(GREATER)\n",
    "    "
   ]
  },
  {
   "cell_type": "markdown",
   "metadata": {},
   "source": [
    "4 合并排序\n",
    "    \n",
    "    --就是将列表项无限对半分解，使用递归。；。先分解成最小个体，然后排序，再合并，再排序，再合并。。。。。。。。。。\n",
    "    \n",
    "    "
   ]
  },
  {
   "cell_type": "code",
   "execution_count": 27,
   "metadata": {
    "collapsed": true
   },
   "outputs": [],
   "source": [
    "def merge_sort(lst):\n",
    "    length=len(lst)\n",
    "    if length>1:\n",
    "        mid=length//2\n",
    "        left=merge_sort(lst[:mid])\n",
    "        right=merge_sort(lst[mid:])\n",
    "        i=0\n",
    "        j=0\n",
    "        k=0\n",
    "        left_length=len(left)\n",
    "        right_length=len(right)\n",
    "        \n",
    "        while i<left_length and j<right_length:\n",
    "            if left[i]<right[j]:\n",
    "                lst[k]=left[i]\n",
    "                i+=1\n",
    "            else:\n",
    "                lst[k]=right[j]\n",
    "                j+=1\n",
    "            k+=1\n",
    "            \n",
    "        while i<left_length:\n",
    "            lst[k]=left[i]\n",
    "            i+=1\n",
    "            k+=1\n",
    "            \n",
    "        while j<right_length:\n",
    "            lst[k]=right[j]\n",
    "            j+=1\n",
    "            k+=1\n",
    "            \n",
    "            \n",
    "    return lst\n",
    "            "
   ]
  },
  {
   "cell_type": "code",
   "execution_count": 28,
   "metadata": {},
   "outputs": [
    {
     "data": {
      "text/plain": [
       "[2, 3, 4, 4, 5, 6, 6, 7, 8, 9]"
      ]
     },
     "execution_count": 28,
     "metadata": {},
     "output_type": "execute_result"
    }
   ],
   "source": [
    "merge_sort([2,5,6,9,8,7,3,4,6,4])"
   ]
  },
  {
   "cell_type": "markdown",
   "metadata": {
    "collapsed": true
   },
   "source": [
    "5 堆排序\n",
    "\n",
    "       \n",
    "大顶堆：arr[i] >= arr[2i+1] && arr[i] >= arr[2i+2]\n",
    "\n",
    "\n",
    "小顶堆：arr[i] <= arr[2i+1] && arr[i] <= arr[2i+2]  \n",
    "\n",
    "\n",
    "堆排序的基本思想是：将待排序序列构造成一个大顶堆，此时，整个序列的最大值就是堆顶的根节点。将其与末尾元素进行交换，此时末尾就为最大值。然后将剩余n-1个元素重新构造成一个堆，这样会得到n个元素的次小值。如此反复执行，便能得到一个有序序列了\n",
    "\n",
    "一般升序采用大顶堆，降序采用小顶堆\n",
    "\n",
    "\n",
    "第一步，先把序列排列成堆排序，就是父节点大于子节点的模式\n",
    "\n",
    "第二步，就是循环将堆顶与最后一个元素交换，即排出最后一个元素，剩下的n-1个元素再进行堆排序"
   ]
  },
  {
   "cell_type": "code",
   "execution_count": 1,
   "metadata": {
    "collapsed": true
   },
   "outputs": [],
   "source": [
    "def heapify(lst, dad_index, heap_size):\n",
    "\n",
    "    largest = dad_index\n",
    "\n",
    "    left_child_index = 2 * dad_index + 1\n",
    "\n",
    "    right_child = 2 * dad_index + 2\n",
    "\n",
    "    if heap_size>left_index and lst[left_index] > lst[largest]:\n",
    "\n",
    "        largest = left_index\n",
    "\n",
    "    if heap_size>right_index and lst[right_index] > lst[largest]:\n",
    "\n",
    "        largest = right_index\n",
    "\n",
    "    if largest != dad_index:\n",
    "\n",
    "        lst[largest], lst[dad_index] = lst[dad_index], lst[largest]\n",
    "\n",
    "        heapify(lst, largest, heap_size)\n",
    "\n",
    "\n",
    "\n",
    "\n",
    "\n",
    "def heap_sort(lst):\n",
    "\n",
    "    n = len(lst)\n",
    "\n",
    "    for i in range(n // 2 - 1, -1, -1):\n",
    "\n",
    "        heapify(lst, i, n)\n",
    "\n",
    "    for i in range(n - 1, 0, -1):\n",
    "\n",
    "        lst[0], lst[i] = lst[i], lst[0]\n",
    "\n",
    "        heapify(lst, 0, i)\n",
    "\n",
    "    return lst"
   ]
  },
  {
   "cell_type": "code",
   "execution_count": 6,
   "metadata": {},
   "outputs": [
    {
     "data": {
      "text/plain": [
       "[2, 3, 4, 5, 6, 7, 8, 9]"
      ]
     },
     "execution_count": 6,
     "metadata": {},
     "output_type": "execute_result"
    }
   ],
   "source": [
    "heap_sort([2,3,6,5,9,8,7,4])"
   ]
  },
  {
   "cell_type": "code",
   "execution_count": null,
   "metadata": {
    "collapsed": true
   },
   "outputs": [],
   "source": []
  }
 ],
 "metadata": {
  "kernelspec": {
   "display_name": "Python 3",
   "language": "python",
   "name": "python3"
  },
  "language_info": {
   "codemirror_mode": {
    "name": "ipython",
    "version": 3
   },
   "file_extension": ".py",
   "mimetype": "text/x-python",
   "name": "python",
   "nbconvert_exporter": "python",
   "pygments_lexer": "ipython3",
   "version": "3.6.2"
  }
 },
 "nbformat": 4,
 "nbformat_minor": 2
}
